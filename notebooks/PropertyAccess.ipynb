{
 "cells": [
  {
   "cell_type": "markdown",
   "metadata": {
    "deletable": true,
    "editable": true
   },
   "source": [
    "<div align=\"right\">\n",
    "[もくじへ](Index.ipynb)</a>\n",
    "</div>\n",
    "<hr />"
   ]
  },
  {
   "cell_type": "markdown",
   "metadata": {
    "deletable": true,
    "editable": true
   },
   "source": [
    "## プロパティのアクセス(★★★)\n",
    "\n",
    "### 一言で言うと\n",
    "\n",
    "Groovyでは、JavaBeansとしてのプロパティは、\n",
    "プロパティ変数のように参照・代入することができます。\n",
    "\n",
    "### 説明\n",
    "\n",
    "以下のように、Getter・Setterメソッドを使ったプロパティ定義を含むJavaクラス(もしくはGroovyクラス)が定義されている場合、"
   ]
  },
  {
   "cell_type": "code",
   "execution_count": 6,
   "metadata": {
    "collapsed": false,
    "deletable": true,
    "editable": true
   },
   "outputs": [
    {
     "data": {
      "text/plain": [
       "SampleBean@7037e473"
      ]
     },
     "execution_count": 6,
     "metadata": {},
     "output_type": "execute_result"
    }
   ],
   "source": [
    "public class SampleBean {\n",
    "    private _foo;\n",
    "    public void setFoo(String foo) {\n",
    "      this._foo = foo;\n",
    "    }\n",
    "    public String getFoo() {\n",
    "      return _foo;\n",
    "    }\n",
    "}\n",
    "sampleBean = new SampleBean()"
   ]
  },
  {
   "cell_type": "markdown",
   "metadata": {
    "deletable": true,
    "editable": true
   },
   "source": [
    "GroovyからsetFoo()、getFoo()はプロパティ変数の記法で以下のように呼び出すことができます。"
   ]
  },
  {
   "cell_type": "code",
   "execution_count": 7,
   "metadata": {
    "collapsed": false,
    "deletable": true,
    "editable": true
   },
   "outputs": [
    {
     "data": {
      "text/plain": [
       "hoge"
      ]
     },
     "execution_count": 7,
     "metadata": {},
     "output_type": "execute_result"
    }
   ],
   "source": [
    "sampleBean.foo = \"hoge\";  // sampleBean.setFoo(\"hoge\")と等価\n",
    "String str = sampleBean.foo;  // ... = sampleBean.getFoo()と等価"
   ]
  },
  {
   "cell_type": "markdown",
   "metadata": {
    "deletable": true,
    "editable": true
   },
   "source": [
    "<hr/>\n",
    "<div style=\"float: left\">[前:ハッシュマップの初期化(★★★)](HashMapInitialize.ipynb)</div>\n",
    "<div style=\"text-align: right\">[次:チェック例外を非チェック例外として扱う(★★)](Exception.ipynb)</div>"
   ]
  }
 ],
 "metadata": {
  "kernelspec": {
   "display_name": "Groovy 2.4.10",
   "language": "groovy",
   "name": "groovy_kernel"
  }
 },
 "nbformat": 4,
 "nbformat_minor": 2
}
