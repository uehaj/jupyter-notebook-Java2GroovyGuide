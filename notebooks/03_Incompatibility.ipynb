{
 "cells": [
  {
   "cell_type": "markdown",
   "metadata": {
    "deletable": true,
    "editable": true
   },
   "source": [
    "<div align=\"right\">\n",
    "[もくじへ](Index.ipynb)</a>\n",
    "</div>\n",
    "<hr />"
   ]
  },
  {
   "cell_type": "markdown",
   "metadata": {
    "deletable": true,
    "editable": true
   },
   "source": [
    "# 非互換\n",
    "\n",
    "Groovyは、Javaに対して「ほぼ」上位互換、つまり正しいJavaコードはおおむね正しい\n",
    "Groovyコードなのですが、「ほぼ」が意味するのは、例外的に上位非互換な点も存在するというこ\n",
    "とです。\n",
    "\n",
    "以下にそのような非互換点の主なものについて示します。以下については、Javaと同じだ\n",
    "と思って書くと期待しない結果になる可能性があります。\n",
    "\n",
    " - do-while文が使用できない。(※)\n",
    " - 文字定数が利用できない。`'a'`はGroovyでは文字列なので文字型が必要なら`\"a\" as char`と書く。\n",
    " - 配列の初期化方法が異なる。 `int[] a = {1,2,3}`と書けず、`int [] a = [1,2,3]`とする。\n",
    " - Javaの配列の宣言方法の、C互換形式(`int data[]`)は使用できず、Java形式(`int[] data`)とする必要がある。\n",
    " - 浮動小数点リテラルはデフォルトでBigInteger型。double型にするには接尾辞dを付与する(「`1.1d`」など)。\n",
    " - 整数除算(`/`)の結果は浮動小数となる。整数除算を行う場合は`intdiv()`を使用。\n",
    " - Javaで`==`でオブジェクトの比較を行なっているコードは、Groovyでは`equals()`の呼び出しであり、意味が異なる場合がある\n",
    " - Javaでは`for`文の第一節と第三節で使用できるカンマ演算子はGroovyでは使用できない。(※)\n",
    " - トップレベルブロックとクロージャと曖昧さ。文のレベルに単体のブロック文があるとクロージャと区別できないケースがある。\n",
    "   例えば、<br />"
   ]
  },
  {
   "cell_type": "markdown",
   "metadata": {},
   "source": [
    "{ println \"hello\" } // ブロックなのか？  クロージャなのか？"
   ]
  },
  {
   "cell_type": "markdown",
   "metadata": {},
   "source": [
    "はコンパイルエラーになる。エラーを回避するには以下のようにする。"
   ]
  },
  {
   "cell_type": "code",
   "execution_count": 3,
   "metadata": {
    "collapsed": false,
    "deletable": true,
    "editable": true
   },
   "outputs": [
    {
     "name": "stdout",
     "output_type": "stream",
     "text": [
      "hello\n"
     ]
    }
   ],
   "source": [
    "   label: { println \"hello\" } // ブロック"
   ]
  },
  {
   "cell_type": "code",
   "execution_count": 4,
   "metadata": {
    "collapsed": false,
    "deletable": true,
    "editable": true
   },
   "outputs": [
    {
     "data": {
      "text/plain": [
       "Script3$_run_closure1@219d1329"
      ]
     },
     "execution_count": 4,
     "metadata": {},
     "output_type": "execute_result"
    }
   ],
   "source": [
    "   { -> println \"hello\" } // クロージャ"
   ]
  },
  {
   "cell_type": "markdown",
   "metadata": {
    "deletable": true,
    "editable": true
   },
   "source": [
    " - セミコロンの省略により曖昧さが生じる可能性がある。例えば、行頭に「単項の前置\n",
    "   演算子」としても「二項演算子」としても解釈できる演算子が来る場合(例:`+`など)、\n",
    "   Javaでは前行を左辺、その行を右辺とする二項演算子の適用と見做されるが、Groovy\n",
    "   では前行はセミコロンの省略と見做されて区切られ、次行は単独の式文と見做される。\n",
    "   例えば、"
   ]
  },
  {
   "cell_type": "markdown",
   "metadata": {},
   "source": [
    "int i=3\n",
    "+4"
   ]
  },
  {
   "cell_type": "markdown",
   "metadata": {},
   "source": [
    "は"
   ]
  },
  {
   "cell_type": "markdown",
   "metadata": {},
   "source": [
    "int i=3;\n",
    "+4"
   ]
  },
  {
   "cell_type": "markdown",
   "metadata": {},
   "source": [
    "のように+4が単独の式文と見なされiの値は3となる。 対策としては、+の前ではなく後で改行する。先の例だと"
   ]
  },
  {
   "cell_type": "markdown",
   "metadata": {},
   "source": [
    "int i=3+\n",
    "4"
   ]
  },
  {
   "cell_type": "markdown",
   "metadata": {},
   "source": [
    "のようにする。"
   ]
  },
  {
   "cell_type": "markdown",
   "metadata": {},
   "source": [
    "- リストに加算演算子(`+`)が適用できることから、文字列とリストを`+`したときの結果が異なるケースがある。\n",
    "   たとえば、"
   ]
  },
  {
   "cell_type": "code",
   "execution_count": 5,
   "metadata": {
    "collapsed": false,
    "deletable": true,
    "editable": true
   },
   "outputs": [
    {
     "data": {
      "text/plain": [
       "[a, b, c, x]"
      ]
     },
     "execution_count": 5,
     "metadata": {},
     "output_type": "execute_result"
    }
   ],
   "source": [
    "List<String> list = Arrays.asList(\"a\",\"b\",\"c\");\n",
    "String x = list+\"x\";"
   ]
  },
  {
   "cell_type": "markdown",
   "metadata": {},
   "source": [
    "の結果は、Javaの場合「\"[a, b, c]x\"」、Groovyの場合「\"[a, b, c, x]\"」となる。"
   ]
  },
  {
   "cell_type": "markdown",
   "metadata": {
    "deletable": true,
    "editable": true
   },
   "source": [
    "- Groovyだけにある予約語(`def`など)をJavaで使っていたケース。\n",
    "- ダブルクォートで括った文字列定数中で「`$`」を使用しているケース。\n",
    "- Java 7のtry with resouce構文はGroovyではサポートしていない。(※)\n",
    "- Java 8の拡張のうち、ラムダ式、メソッド参照、コンストラクタ参照、デフォルトメ\n",
    "  ソッドはGroovyではサポートしていない。(※)\n",
    "\n",
    "\n",
    "上記は書籍「プログラミングGROOVY」 3.12. 「Javaとの上位非互換性」を参考に追記・抜粋し\n",
    "ました。\n",
    "\n",
    "なお、(※)は将来のGroovyバージョンでは使用可能になるように開発が進んでいます。"
   ]
  },
  {
   "cell_type": "markdown",
   "metadata": {
    "deletable": true,
    "editable": true
   },
   "source": [
    "<hr/>\n",
    "<div style=\"float: left\">[前:with句で簡潔に (★)](With.ipynb)</div>\n",
    "<div style=\"text-align: right\">[次:次のステップへ](04_Conclusion.ipynb)</div>"
   ]
  }
 ],
 "metadata": {
  "kernelspec": {
   "display_name": "Groovy 2.4.10",
   "language": "groovy",
   "name": "groovy_kernel"
  }
 },
 "nbformat": 4,
 "nbformat_minor": 2
}
