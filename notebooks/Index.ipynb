{
 "cells": [
  {
   "cell_type": "markdown",
   "metadata": {
    "deletable": true,
    "editable": true
   },
   "source": [
    "<div style=\"background: #ee47de; padding: 24pt;\">\n",
    "<h1 style=\"font-size: 36pt; color: white;\">Groovyを書くときに<br/>知っておきたい 10 のこと</h1>\n",
    "</div>\n",
    "\n",
    "## 目次\n",
    "\n",
    "1. [はじめに](Java2GroovyGuide.ipynb)\n",
    "1. [Groovyらしい書き方](02_Topics.ipynb)\n",
    "  1. [配列やリストの初期化(★★★)](ListArrayInitialize.ipynb)\n",
    "  1. [ハッシュマップの初期化(★★★)](HashMapInitialize.ipynb)\n",
    "  1. [プロパティのアクセス(★★★)](PropertyAccess.ipynb)\n",
    "  1. [チェック例外を非チェック例外として扱う(★★)](Exception.ipynb)\n",
    "  1. [文字列の中に式を展開(★★)](GString.ipynb)\n",
    "  1. [プライベート変数のアクセス(★)](Private.ipynb)\n",
    "  1. [ファイルの内容を文字列に読み込む(★)](FileToString.ipynb)\n",
    "  1. [リストの結合(★★)](ListAdd.ipynb)\n",
    "  1. [==での比較 (★)](Equals.ipynb)\n",
    "  1. [with句で簡潔に (★)](With.ipynb)\n",
    "1. [非互換](03_Incompatibility.ipynb)\n",
    "1. [次のステップへ](04_Conclusion.ipynb)\n",
    "\n",
    "<hr />\n",
    "<div align=\"right\">[次:Groovyらしい書き方](02_Topics.ipynb)</div>"
   ]
  }
 ],
 "metadata": {
  "kernelspec": {
   "display_name": "Groovy 2.4.10",
   "language": "groovy",
   "name": "groovy_kernel"
  }
 },
 "nbformat": 4,
 "nbformat_minor": 2
}
