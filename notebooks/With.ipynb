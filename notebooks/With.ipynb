{
 "cells": [
  {
   "cell_type": "markdown",
   "metadata": {
    "deletable": true,
    "editable": true
   },
   "source": [
    "<div align=\"right\">\n",
    "[もくじへ](Index.ipynb)</a>\n",
    "</div>\n",
    "<hr />"
   ]
  },
  {
   "cell_type": "markdown",
   "metadata": {
    "deletable": true,
    "editable": true
   },
   "source": [
    "## with句で簡潔に (★)\n",
    "\n",
    "### 一言で言うと\n",
    "\n",
    "同じレシーバに対する多数のインスタンスメソッド呼び出しは、with句でまとめることができます。\n",
    "\n",
    "\n",
    "### 詳しい説明"
   ]
  },
  {
   "cell_type": "code",
   "execution_count": 13,
   "metadata": {
    "collapsed": false,
    "deletable": true,
    "editable": true
   },
   "outputs": [],
   "source": [
    "a=[b:[c:[d:[e:[method1:{->},method2:{->},method3:{->},method4:{->}] as Expando]]]]\n",
    "a.b.c.d.e.method1();\n",
    "a.b.c.d.e.method2();\n",
    "a.b.c.d.e.method3();\n",
    "a.b.c.d.e.method4();"
   ]
  },
  {
   "cell_type": "markdown",
   "metadata": {
    "deletable": true,
    "editable": true
   },
   "source": [
    "のようなコードはGroovyでは`with`句を用いて以下のように書くことができます。"
   ]
  },
  {
   "cell_type": "code",
   "execution_count": 14,
   "metadata": {
    "collapsed": false,
    "deletable": true,
    "editable": true
   },
   "outputs": [],
   "source": [
    "a.b.c.d.e.with {\n",
    "  method1()\n",
    "  method3()\n",
    "  method4()\n",
    "}"
   ]
  },
  {
   "cell_type": "markdown",
   "metadata": {
    "deletable": true,
    "editable": true
   },
   "source": [
    "method1()というメソッド呼び出しがあったときに、staticメソッドに該当するものがなく、\n",
    "また、thisからも参照できない場合、withで指定されたオブジェクト上記の場合\n",
    "(a.b.c.d.e)から探して呼び出しを行うという機能です。\n",
    "\n",
    "\"a.b.c.d.e\"にあたる部分が長い場合に、特に簡潔になります。\n",
    "\n",
    "ただし、「a.b.c.d.e」の評価で副作用がある場合には同じ意味にならないことがありますので注意してください。\n",
    "\n",
    "実際に動作するコード例は以下です。"
   ]
  },
  {
   "cell_type": "code",
   "execution_count": 15,
   "metadata": {
    "collapsed": true,
    "deletable": true,
    "editable": true
   },
   "outputs": [],
   "source": [
    "\"Abc\".with {\n",
    "   assert toUpperCase() == \"ABC\"\n",
    "   assert toLowerCase() == \"abc\"\n",
    "}"
   ]
  },
  {
   "cell_type": "markdown",
   "metadata": {
    "deletable": true,
    "editable": true
   },
   "source": [
    "このようにテストコードで値のチェックをしていくときになどにも有用です。"
   ]
  },
  {
   "cell_type": "markdown",
   "metadata": {
    "deletable": true,
    "editable": true
   },
   "source": [
    "<hr/>\n",
    "<div style=\"float: left\">[==での比較 (★)](Equals.ipynb)</div>\n",
    "<div style=\"text-align: right\">[次:非互換](03_Incompatibility.ipynb)</div>"
   ]
  }
 ],
 "metadata": {
  "kernelspec": {
   "display_name": "Groovy 2.4.10",
   "language": "groovy",
   "name": "groovy_kernel"
  }
 },
 "nbformat": 4,
 "nbformat_minor": 2
}
