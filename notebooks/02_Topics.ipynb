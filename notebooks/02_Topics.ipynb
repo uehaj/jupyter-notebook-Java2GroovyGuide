{
 "cells": [
  {
   "cell_type": "markdown",
   "metadata": {
    "deletable": true,
    "editable": true
   },
   "source": [
    "<div align=\"right\">\n",
    "[もくじへ](Index.ipynb)</a>\n",
    "</div>\n",
    "<hr />"
   ]
  },
  {
   "cell_type": "markdown",
   "metadata": {
    "deletable": true,
    "editable": true
   },
   "source": [
    "# Groovyらしい書き方\n",
    "\n",
    "本節ではGroovyらしい書き方を紹介します。\n",
    "\n",
    "<hr/>\n",
    "<div style=\"float: left\">[前:はじめに](Java2GroovyGuide.ipynb)</div>\n",
    "<div style=\"text-align: right\">[次:配列やリストの初期化(★★★)](ListArrayInitialize.ipynb)</div>"
   ]
  }
 ],
 "metadata": {
  "kernelspec": {
   "display_name": "Groovy 2.4.10",
   "language": "groovy",
   "name": "groovy_kernel"
  }
 },
 "nbformat": 4,
 "nbformat_minor": 2
}
