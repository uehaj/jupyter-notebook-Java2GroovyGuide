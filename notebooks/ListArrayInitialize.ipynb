{
 "cells": [
  {
   "cell_type": "markdown",
   "metadata": {
    "deletable": true,
    "editable": true
   },
   "source": [
    "<div align=\"right\">\n",
    "[もくじへ](Index.ipynb)</a>\n",
    "</div>\n",
    "<hr />"
   ]
  },
  {
   "cell_type": "markdown",
   "metadata": {
    "deletable": true,
    "editable": true
   },
   "source": [
    "## 配列やリストの初期化(★★★)\n",
    "\n",
    "### 一言で言うと\n",
    "\n",
    "Groovyでは以下のように「リストリテラル」が書けます。\n",
    "\n",
    "- 3要素x,y,zを要素として含むリストは`Arrays.asList(x,y,z)`ではなく、`[x,y,z]`と書ける。\n",
    "- 空の(長さ0の)リストは`new ArrayList<Integer>()`は`[]`と書ける。\n",
    "\n",
    "### 説明\n",
    "\n",
    "Groovyでは簡潔なリストのリテラルを使用できます。\n",
    "たとえば、以下のJavaコード"
   ]
  },
  {
   "cell_type": "code",
   "execution_count": 2,
   "metadata": {
    "collapsed": false,
    "deletable": true,
    "editable": true
   },
   "outputs": [
    {
     "data": {
      "text/plain": [
       "[Ljava.lang.String;@2aa96f53"
      ]
     },
     "execution_count": 2,
     "metadata": {},
     "output_type": "execute_result"
    }
   ],
   "source": [
    "List<Integer> searchTargets = new ArrayList<>();  // (1)\n",
    "List<String> fooList = Arrays.asList(\"a\", \"b\", \"c\");  // (2)\n",
    "String[] strArray = [\"a\", \"b\", \"c\"];  // (3)"
   ]
  },
  {
   "cell_type": "markdown",
   "metadata": {
    "deletable": true,
    "editable": true
   },
   "source": [
    "は、Groovyでは以下のように書くことができます。"
   ]
  },
  {
   "cell_type": "code",
   "execution_count": 3,
   "metadata": {
    "collapsed": false,
    "deletable": true,
    "editable": true
   },
   "outputs": [
    {
     "data": {
      "text/plain": [
       "[Ljava.lang.String;@559ed188"
      ]
     },
     "execution_count": 3,
     "metadata": {},
     "output_type": "execute_result"
    }
   ],
   "source": [
    "List<Integer> searchTargets = [] // (4)\n",
    "List<String> fooList = [\"a\", \"b\", \"c\"]; // (5)\n",
    "String[] strArray = [\"a\", \"b\", \"c\"]; // (6)"
   ]
  },
  {
   "cell_type": "markdown",
   "metadata": {
    "deletable": true,
    "editable": true
   },
   "source": [
    "(6)のようにリストを配列に代入しようとすると自動的に配列に変換されるので、配列の初\n",
    "期化に使用することもできます。\n",
    "(4),(5)についてはさらに以下のようにすることも可能です。"
   ]
  },
  {
   "cell_type": "code",
   "execution_count": 4,
   "metadata": {
    "collapsed": false,
    "deletable": true,
    "editable": true
   },
   "outputs": [
    {
     "data": {
      "text/plain": [
       "[a, b, c]"
      ]
     },
     "execution_count": 4,
     "metadata": {},
     "output_type": "execute_result"
    }
   ],
   "source": [
    "List searchTargets = [] // (7)\n",
    "List fooList = [\"a\", \"b\", \"c\"] // (8)"
   ]
  },
  {
   "cell_type": "markdown",
   "metadata": {
    "deletable": true,
    "editable": true
   },
   "source": [
    "<blockquote>\n",
    "(※)Groovyでは、ジェネリクスの型パラメータは(@CompileStatic/@TypeCheckedが付与されて\n",
    "いないかぎり、もしくはGroovyコードをJavaから呼び出すのではない限り)無視されます。\n",
    "</blockquote>\n",
    "\n",
    "さらに以下のようにすることも可能です。"
   ]
  },
  {
   "cell_type": "code",
   "execution_count": 5,
   "metadata": {
    "collapsed": false,
    "deletable": true,
    "editable": true
   },
   "outputs": [
    {
     "data": {
      "text/plain": [
       "[a, b, c]"
      ]
     },
     "execution_count": 5,
     "metadata": {},
     "output_type": "execute_result"
    }
   ],
   "source": [
    "def searchTargets = [] // (9)\n",
    "def fooList = [\"a\", \"b\", \"c\"] // (10)"
   ]
  },
  {
   "cell_type": "markdown",
   "metadata": {
    "deletable": true,
    "editable": true
   },
   "source": [
    "ネストしたり、後述のマップリテラルとくみあわせるなどした場合はさらに明確です。"
   ]
  },
  {
   "cell_type": "code",
   "execution_count": 6,
   "metadata": {
    "collapsed": false,
    "deletable": true,
    "editable": true
   },
   "outputs": [
    {
     "data": {
      "text/plain": [
       "{a=[1, 2, 3], b=[4, 5, 6], c=[7, 8, 9]}"
      ]
     },
     "execution_count": 6,
     "metadata": {},
     "output_type": "execute_result"
    }
   ],
   "source": [
    "def nested = [\n",
    "  a:[1,2,3],\n",
    "  b:[4,5,6],\n",
    "  c:[7,8,9]\n",
    "]"
   ]
  },
  {
   "cell_type": "markdown",
   "metadata": {
    "deletable": true,
    "editable": true
   },
   "source": [
    "テスト用のデータなどの記述にぜひ活用していただきたい記述方法です。"
   ]
  },
  {
   "cell_type": "markdown",
   "metadata": {
    "deletable": true,
    "editable": true
   },
   "source": [
    "### リストのループでの設定\n",
    "\n",
    "リストの要素をループで初期化する場合があります。たとえば、"
   ]
  },
  {
   "cell_type": "code",
   "execution_count": 8,
   "metadata": {
    "collapsed": false,
    "deletable": true,
    "editable": true
   },
   "outputs": [],
   "source": [
    "\n",
    "List dst = new ArrayList();\n",
    "for (int i=0; i<10; i++) {\n",
    "  dst.add(i*2)\n",
    "}"
   ]
  },
  {
   "cell_type": "markdown",
   "metadata": {
    "deletable": true,
    "editable": true
   },
   "source": [
    "などです。Groovyではこう書けます。"
   ]
  },
  {
   "cell_type": "code",
   "execution_count": 9,
   "metadata": {
    "collapsed": false,
    "deletable": true,
    "editable": true
   },
   "outputs": [
    {
     "data": {
      "text/plain": [
       "[2, 4, 6, 8, 10, 12, 14, 16, 18, 20]"
      ]
     },
     "execution_count": 9,
     "metadata": {},
     "output_type": "execute_result"
    }
   ],
   "source": [
    "List dst = (1..10).collect { it * 2 }"
   ]
  },
  {
   "cell_type": "markdown",
   "metadata": {
    "deletable": true,
    "editable": true
   },
   "source": [
    "collectはコレクション操作のためのメソッドです。またクロージャを使用したコード例\n",
    "でもあります。本資料ではコレクション操作およびクロージャ操作については説明しませんが、\n",
    "興味があれば「次のステップへ」の項目を参照ください。\n",
    "\n",
    "### その他\n",
    "\n",
    "Groovyのリストリテラルの型は、かならず`java.util.ArrayList`となります。\n",
    "もし`List`の他の実装クラス、`LinkedList`や、あるいは`HashSet`などを使用したい場合、以下のように`as`キーワードで\n",
    "変換することができます。"
   ]
  },
  {
   "cell_type": "code",
   "execution_count": 10,
   "metadata": {
    "collapsed": true,
    "deletable": true,
    "editable": true
   },
   "outputs": [],
   "source": [
    "List list = [1, 2, 3] as LinkedList\n",
    "assert list.getClass() == java.util.LinkedList\n",
    "Set set = [1, 2, 3] as HashSet\n",
    "assert set.getClass() == java.util.HashSet"
   ]
  },
  {
   "cell_type": "markdown",
   "metadata": {
    "deletable": true,
    "editable": true
   },
   "source": [
    "### 解説\n",
    "\n",
    "リストリテラルを使用できるのはGroovyの利点ですので是非ご活用ください。"
   ]
  },
  {
   "cell_type": "markdown",
   "metadata": {
    "deletable": true,
    "editable": true
   },
   "source": [
    "<hr/>\n",
    "<div style=\"float: left\">[前:Groovyらしい書き方](02_Topics.ipynb)</div>\n",
    "<div style=\"text-align: right\">[次:ハッシュマップの初期化(★★★)](HashMapInitialize.ipynb)</div>"
   ]
  }
 ],
 "metadata": {
  "kernelspec": {
   "display_name": "Groovy 2.4.10",
   "language": "groovy",
   "name": "groovy_kernel"
  }
 },
 "nbformat": 4,
 "nbformat_minor": 2
}
