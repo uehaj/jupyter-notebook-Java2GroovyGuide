{
 "cells": [
  {
   "cell_type": "markdown",
   "metadata": {
    "deletable": true,
    "editable": true
   },
   "source": [
    "<div align=\"right\">\n",
    "[もくじへ](Index.ipynb)</a>\n",
    "</div>\n",
    "<hr />"
   ]
  },
  {
   "cell_type": "markdown",
   "metadata": {
    "deletable": true,
    "editable": true
   },
   "source": [
    "## ハッシュマップの初期化(★★★)\n",
    "\n",
    "### 一言で言うと\n",
    "\n",
    "Groovyでは以下のように「マップリテラル」が書けます。"
   ]
  },
  {
   "cell_type": "code",
   "execution_count": null,
   "metadata": {
    "collapsed": true
   },
   "outputs": [],
   "source": [
    "[key1: value1, key2: value2] //`put`でいちいち追加しなくてもよい)。"
   ]
  },
  {
   "cell_type": "markdown",
   "metadata": {},
   "source": [
    "空のハッシュマップは"
   ]
  },
  {
   "cell_type": "code",
   "execution_count": 2,
   "metadata": {
    "collapsed": false
   },
   "outputs": [
    {
     "data": {
      "text/plain": [
       "{}"
      ]
     },
     "execution_count": 2,
     "metadata": {},
     "output_type": "execute_result"
    }
   ],
   "source": [
    "[:] // Javaでは「new HashMap<String, Integer>()」"
   ]
  },
  {
   "cell_type": "markdown",
   "metadata": {},
   "source": [
    "### 説明\n",
    "\n",
    "Groovyではハッシュマップのリテラルを記述することができます。\n",
    "たとえば、以下のJavaコード"
   ]
  },
  {
   "cell_type": "code",
   "execution_count": 14,
   "metadata": {
    "collapsed": false,
    "deletable": true,
    "editable": true
   },
   "outputs": [
    {
     "data": {
      "text/plain": [
       "{a=1, b=2, c=3}"
      ]
     },
     "execution_count": 14,
     "metadata": {},
     "output_type": "execute_result"
    }
   ],
   "source": [
    "Map<String, Integer> searchTargets = new HashMap<>();  // (1)\n",
    "Map<String, Integer> fooMap = new HashMap<>(); // (2)\n",
    "fooMap.put(\"a\", 1);\n",
    "fooMap.put(\"b\", 2);\n",
    "fooMap.put(\"c\", 3);\n",
    "fooMap"
   ]
  },
  {
   "cell_type": "markdown",
   "metadata": {
    "deletable": true,
    "editable": true
   },
   "source": [
    "は、Groovyでは以下のように書くことができます。"
   ]
  },
  {
   "cell_type": "code",
   "execution_count": 15,
   "metadata": {
    "collapsed": false,
    "deletable": true,
    "editable": true
   },
   "outputs": [
    {
     "data": {
      "text/plain": [
       "{a=1, b=2, c=3}"
      ]
     },
     "execution_count": 15,
     "metadata": {},
     "output_type": "execute_result"
    }
   ],
   "source": [
    "Map<String, Integer> searchTargets = [:] // (4)\n",
    "Map<String, Integer> fooMap = [a:1, b:2, c:3] // (5)"
   ]
  },
  {
   "cell_type": "markdown",
   "metadata": {
    "deletable": true,
    "editable": true
   },
   "source": [
    "(4),(5)についてはさらに以下のようにすることも可能です。"
   ]
  },
  {
   "cell_type": "code",
   "execution_count": 16,
   "metadata": {
    "collapsed": false,
    "deletable": true,
    "editable": true
   },
   "outputs": [
    {
     "data": {
      "text/plain": [
       "{a=1, b=2, c=3}"
      ]
     },
     "execution_count": 16,
     "metadata": {},
     "output_type": "execute_result"
    }
   ],
   "source": [
    "Map searchTargets = [:] // (7)\n",
    "Map fooMap = [a:1, b:2, c:3] // (8)"
   ]
  },
  {
   "cell_type": "markdown",
   "metadata": {
    "deletable": true,
    "editable": true
   },
   "source": [
    "さらに以下のようにすることも可能です。"
   ]
  },
  {
   "cell_type": "code",
   "execution_count": 17,
   "metadata": {
    "collapsed": false,
    "deletable": true,
    "editable": true
   },
   "outputs": [
    {
     "data": {
      "text/plain": [
       "{a=1, b=2, c=3}"
      ]
     },
     "execution_count": 17,
     "metadata": {},
     "output_type": "execute_result"
    }
   ],
   "source": [
    "def searchTargets = [:] // (9)\n",
    "def fooMap = [a:1, b:2, c:3] // (10)"
   ]
  },
  {
   "cell_type": "markdown",
   "metadata": {
    "deletable": true,
    "editable": true
   },
   "source": [
    "変数を宣言・初期化せず、その変数を使用している箇所に式としてリテラルを書いてしま\n",
    "った方が良い場合もあるでしょう。\n",
    "\n",
    "なお、ハッシュマップのキーが文字列定数ではない場合、"
   ]
  },
  {
   "cell_type": "code",
   "execution_count": 18,
   "metadata": {
    "collapsed": false,
    "deletable": true,
    "editable": true
   },
   "outputs": [
    {
     "data": {
      "text/plain": [
       "{3=three}"
      ]
     },
     "execution_count": 18,
     "metadata": {},
     "output_type": "execute_result"
    }
   ],
   "source": [
    "def someMap = [(1+2): \"three\"]"
   ]
  },
  {
   "cell_type": "markdown",
   "metadata": {
    "deletable": true,
    "editable": true
   },
   "source": [
    "のようにキーの箇所を括弧で括れば任意の式を記述することができます。\n",
    "\n",
    "### その他\n",
    "\n",
    "Groovyのマップリテラルの型は`java.util.HashMap`となります。\n",
    "もし`Map`の他の実装クラス、`TreeMap`などを使用したい場合、以下のように`as`キーワードで\n",
    "変換することができます。"
   ]
  },
  {
   "cell_type": "code",
   "execution_count": 19,
   "metadata": {
    "collapsed": true,
    "deletable": true,
    "editable": true
   },
   "outputs": [],
   "source": [
    "Map tMap = [a:1, b:2, c:3] as TreeMap\n",
    "assert tMap.getClass() == java.util.TreeMap"
   ]
  },
  {
   "cell_type": "markdown",
   "metadata": {
    "deletable": true,
    "editable": true
   },
   "source": [
    "<hr/>\n",
    "<div style=\"float: left\">[前:配列やリストの初期化(★★★)](ListArrayInitialize.ipynb)</div>\n",
    "<div style=\"text-align: right\">[次:プロパティのアクセス(★★★)](PropertyAccess.ipynb)</div>"
   ]
  }
 ],
 "metadata": {
  "kernelspec": {
   "display_name": "Groovy 2.4.10",
   "language": "groovy",
   "name": "groovy_kernel"
  }
 },
 "nbformat": 4,
 "nbformat_minor": 2
}
