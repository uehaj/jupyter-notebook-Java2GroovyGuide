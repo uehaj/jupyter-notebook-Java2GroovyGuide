{
 "cells": [
  {
   "cell_type": "markdown",
   "metadata": {},
   "source": [
    "<div align=\"right\">\n",
    "[もくじへ](Index.ipynb)</a>\n",
    "</div>\n",
    "<hr />"
   ]
  },
  {
   "cell_type": "markdown",
   "metadata": {
    "deletable": true,
    "editable": true
   },
   "source": [
    "# はじめに\n",
    "\n",
    "## 対象読者\n",
    "\n",
    "* Groovyに初めて触るJava経験者\n",
    "* JavaプロダクトのテストコードをGroovyで書く人。\n",
    "\n",
    "## 本文書の目的\n",
    "\n",
    "GroovyはJavaの「ほぼ上位互換」な言語です。この利点は、Groovyコードを「Javaのよう\n",
    "に」書けばおおむねJavaのように動くということです。\n",
    "\n",
    "例えばGroovyではJavaのように書くことができます。"
   ]
  },
  {
   "cell_type": "code",
   "execution_count": 10,
   "metadata": {
    "collapsed": true,
    "deletable": true,
    "editable": true
   },
   "outputs": [],
   "source": [
    "System.out.println(\"hello world!\");"
   ]
  },
  {
   "cell_type": "markdown",
   "metadata": {
    "deletable": true,
    "editable": true
   },
   "source": [
    "Groovy処理系は上記を意図通りに実行することができます。\n",
    "しかし、これだけだとGroovyを使っている利点がほとんど得られていません。\n",
    "Groovyでは上記と全く同じ意味のコードを以下のように書くことができます。"
   ]
  },
  {
   "cell_type": "code",
   "execution_count": 6,
   "metadata": {
    "collapsed": false,
    "deletable": true,
    "editable": true
   },
   "outputs": [
    {
     "name": "stdout",
     "output_type": "stream",
     "text": [
      "hello world!\n"
     ]
    }
   ],
   "source": [
    "println \"hello world!\""
   ]
  },
  {
   "cell_type": "markdown",
   "metadata": {
    "deletable": true,
    "editable": true
   },
   "source": [
    "タイプ量が減り、冗長な部分がなくなり読みやすくなります。\n",
    "\n",
    "これは一例ですが、本文書ではこのような、「知ってさえいるだけで、Groovyらしく、またGroovyで書くことによるメリットを得られる」\n",
    "というようなポイントを厳選して説明しています。また、例外的にJavaと上位互換では\n",
    "ない点についても記載します。\n",
    "\n",
    "本書で示したポイントを押えておくことにより、Groovyを本格的に学ぼうとする前の段階でGroovyのメリットを迅速に享受できるようになります。\n",
    "\n",
    "## 書いていないこと\n",
    "\n",
    "Groovyは機能は多岐にわたります。本書ではGroovy/Grailsで本格的な開発をする\n",
    "際に必要な機能については紹介していません。\n",
    "Spockそのものの説明やSpock特有の書き方も含みません。\n",
    "Grailsについても触れません。\n",
    "\n",
    "さらなる情報は以下を参照ください。\n",
    "\n",
    "- Groovyチュートリアル(社外リンク): https://koji-k.github.io/groovy-tutorial/\n",
    "\n",
    "## 読み方や記法など\n",
    "\n",
    "- 節タイトルにある★の意味は以下のとおりです\n",
    "\n",
    "    * ★ …レア\n",
    "    * ★★ …普通\n",
    "    * ★★★ …頻出\n",
    "\n",
    "- 「Groovyでは実行するとこうなる」という説明のためにassertを使用しています。Java\n",
    "  とは異なり、Groovyではassertが常に有効です。"
   ]
  },
  {
   "cell_type": "code",
   "execution_count": 7,
   "metadata": {
    "collapsed": true,
    "deletable": true,
    "editable": true
   },
   "outputs": [],
   "source": [
    "assert \"abc\".toUpperCase() == \"ABC\""
   ]
  },
  {
   "cell_type": "markdown",
   "metadata": {
    "deletable": true,
    "editable": true
   },
   "source": [
    "<div style=\"text-align: right\">[次:Groovyらしい書き方](02_Topics.ipynb)</div>"
   ]
  }
 ],
 "metadata": {
  "kernelspec": {
   "display_name": "Groovy 2.4.10",
   "language": "groovy",
   "name": "groovy_kernel"
  }
 },
 "nbformat": 4,
 "nbformat_minor": 2
}
