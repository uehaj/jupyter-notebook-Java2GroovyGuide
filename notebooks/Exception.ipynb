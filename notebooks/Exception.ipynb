{
 "cells": [
  {
   "cell_type": "markdown",
   "metadata": {
    "deletable": true,
    "editable": true
   },
   "source": [
    "<div align=\"right\">\n",
    "[もくじへ](Index.ipynb)</a>\n",
    "</div>\n",
    "<hr />"
   ]
  },
  {
   "cell_type": "markdown",
   "metadata": {
    "deletable": true,
    "editable": true
   },
   "source": [
    "## プライベート変数のアクセス(★)\n",
    "\n",
    "### 一言で言うと\n",
    "\n",
    "Groovyコードからは、クラスでprivate宣言されたメソッドやフィールドにアクセスがで\n",
    "きます。\n",
    "\n",
    "### 説明\n",
    "\n",
    "たとえば以下が実行できます。"
   ]
  },
  {
   "cell_type": "code",
   "execution_count": 8,
   "metadata": {
    "collapsed": false,
    "deletable": true,
    "editable": true
   },
   "outputs": [
    {
     "data": {
      "text/plain": [
       "true"
      ]
     },
     "execution_count": 8,
     "metadata": {},
     "output_type": "execute_result"
    }
   ],
   "source": [
    "\"abc\".value == \"abc\".chars"
   ]
  },
  {
   "cell_type": "markdown",
   "metadata": {
    "deletable": true,
    "editable": true
   },
   "source": [
    "valueはStringのprivateフィールドですが上記のようにアクセスできます。\n",
    "内部的にはリフレクションで取得しています。\n",
    "テストコードでは便利な場合があります。"
   ]
  },
  {
   "cell_type": "markdown",
   "metadata": {
    "deletable": true,
    "editable": true
   },
   "source": [
    "<hr/>\n",
    "<div style=\"float: left\">[前:プロパティのアクセス(★★★)](PropertyAccess.ipynb)</div>\n",
    "<div style=\"text-align: right\">[次:文字列の中に式を展開(★★)](GString.ipynb)</div>"
   ]
  }
 ],
 "metadata": {
  "kernelspec": {
   "display_name": "Groovy 2.4.10",
   "language": "groovy",
   "name": "groovy_kernel"
  }
 },
 "nbformat": 4,
 "nbformat_minor": 2
}
