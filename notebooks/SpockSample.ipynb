{
 "cells": [
  {
   "cell_type": "code",
   "execution_count": 13,
   "metadata": {
    "collapsed": false,
    "deletable": true,
    "editable": true
   },
   "outputs": [
    {
     "data": {
      "text/plain": [
       "<pre><font color=\"red\">java.lang.InstantiationException: spockexample.Person\n",
       "\tat java.lang.Class.newInstance(Class.java:427)\n",
       "\tat org.codehaus.groovy.runtime.InvokerHelper.createScript(InvokerHelper.java:438)\n",
       "\tat groovy.lang.GroovyShell.parse(GroovyShell.java:700)\n",
       "\tat groovy.lang.GroovyShell.evaluate(GroovyShell.java:584)\n",
       "\tat groovy.lang.GroovyShell.evaluate(GroovyShell.java:623)\n",
       "\tat groovy.lang.GroovyShell.evaluate(GroovyShell.java:594)\n",
       "\tat org.jupyterkernel.console.GroovyConsole.eval(GroovyConsole.java:150)\n",
       "\tat org.jupyterkernel.kernel.Kernel.execute_request(Kernel.java:229)\n",
       "\tat org.jupyterkernel.kernel.Kernel$ExecuteRequestHandler.run(Kernel.java:64)\n",
       "Caused by: java.lang.NoSuchMethodException: spockexample.Person.&lt;init&gt;()\n",
       "\tat java.lang.Class.getConstructor0(Class.java:3082)\n",
       "\tat java.lang.Class.newInstance(Class.java:412)\n",
       "\t... 8 more\n",
       "</font></pre>"
      ]
     },
     "execution_count": 13,
     "metadata": {},
     "output_type": "execute_result"
    }
   ],
   "source": [
    "package spockexample;\n",
    "\n",
    "/**\n",
    " * 人を表すクラス。\n",
    " * 年齢と性別を属性として持つ。\n",
    " */\n",
    "public class Person {\n",
    "    /** 性別(\"m\" or \"f\") */\n",
    "    private String sex;\n",
    "    /** 年齢 */\n",
    "    private int age;\n",
    "\n",
    "    public Person(String sex, int age) {\n",
    "        this.sex = sex;\n",
    "        this.age = age;\n",
    "    }\n",
    "\n",
    "    public String getSex() {\n",
    "        return sex;\n",
    "    }\n",
    "\n",
    "    public void setSex(String sex) {\n",
    "        this.sex = sex;\n",
    "    }\n",
    "\n",
    "    public int getAge() {\n",
    "        return age;\n",
    "    }\n",
    "\n",
    "    public void setAge(int age) {\n",
    "        this.age = age;\n",
    "    }\n",
    "}"
   ]
  },
  {
   "cell_type": "code",
   "execution_count": 11,
   "metadata": {
    "collapsed": false,
    "deletable": true,
    "editable": true
   },
   "outputs": [
    {
     "data": {
      "text/plain": [
       "<pre><font color=\"red\">org.codehaus.groovy.runtime.metaclass.MissingMethodExceptionNoStack: No signature of method: spockexample.PersonChecker.main() is applicable for argument types: ([Ljava.lang.String;) values: [[]]\n",
       "Possible solutions: wait(), wait(long), find(), any(), wait(long, int), is(java.lang.Object)\n",
       "</font></pre>"
      ]
     },
     "execution_count": 11,
     "metadata": {},
     "output_type": "execute_result"
    }
   ],
   "source": [
    "package spockexample;\n",
    "\n",
    "public class PersonChecker {\n",
    "    /**\n",
    "     * Personが大人(20歳以上)かどうかを返す\n",
    "     * @param person 判定する人\n",
    "     * @return 大人であればtrue、そうでなければfalse\n",
    "     */\n",
    "    public boolean isAdult(Person person) {\n",
    "        return person.getAge() >= 20;\n",
    "    }\n",
    "\n",
    "    /**\n",
    "     * 男性かどうかを判定する\n",
    "     * @param person 判定する人\n",
    "     * @return 男性であればtrue、そうでなければfalse\n",
    "     */\n",
    "    public boolean isMale(Person person) {\n",
    "        return \"m\".equals(person.getSex());\n",
    "    }\n",
    "}"
   ]
  },
  {
   "cell_type": "code",
   "execution_count": 24,
   "metadata": {
    "collapsed": false,
    "deletable": true,
    "editable": true
   },
   "outputs": [
    {
     "data": {
      "text/plain": [
       "2"
      ]
     },
     "execution_count": 24,
     "metadata": {},
     "output_type": "execute_result"
    }
   ],
   "source": [
    "package spockexample\n",
    "\n",
    "@Grab('org.spockframework:spock-core:1.1-groovy-2.4-rc-3') \n",
    "import spock.lang.Specification\n",
    "import spock.lang.Unroll;\n",
    "\n",
    "class PersonCheckerSpec extends Specification {\n",
    "\n",
    "    @Unroll\n",
    "    def \"#age歳で性別が#sexの場合に大人かどうかの判定で#resultが返る\"() {\n",
    "        setup:\n",
    "        def sut = new PersonChecker()\n",
    "\n",
    "        expect:\n",
    "        sut.isAdult(new Person(sex, age)) == result\n",
    "\n",
    "        where:\n",
    "        age | sex || result\n",
    "        0   | \"m\" || false\n",
    "        19  | \"m\" || false\n",
    "        20  | \"m\" || true\n",
    "        0   | \"f\" || false\n",
    "        19  | \"f\" || false\n",
    "        20  | \"f\" || true\n",
    "    }\n",
    "\n",
    "    @Unroll\n",
    "    def \"#age歳で性別が#sexの場合に、男性化どうかの判定で#resultが返る()\"() {\n",
    "        setup:\n",
    "        def sut = new PersonChecker()\n",
    "\n",
    "        expect:\n",
    "        sut.isMale(new Person(sex, age)) == result\n",
    "\n",
    "        where:\n",
    "        age | sex || result\n",
    "        19  | \"mx\" || true\n",
    "        20  | \"m\" || true\n",
    "        19  | \"f\" || false\n",
    "        20  | \"f\" || false\n",
    "    }\n",
    "}\n",
    "2"
   ]
  },
  {
   "cell_type": "code",
   "execution_count": 25,
   "metadata": {
    "collapsed": false,
    "deletable": true,
    "editable": true
   },
   "outputs": [
    {
     "name": "stdout",
     "output_type": "stream",
     "text": [
      "10\n"
     ]
    }
   ],
   "source": [
    "import org.junit.runner.JUnitCore;\n",
    "import org.junit.runner.Result;\n",
    "\n",
    "/*JUnitCore*/ junit = new JUnitCore();\n",
    "result = junit.run(spockexample.PersonCheckerSpec);\n",
    "println result.runCount"
   ]
  },
  {
   "cell_type": "code",
   "execution_count": 26,
   "metadata": {
    "collapsed": false,
    "deletable": true,
    "editable": true
   },
   "outputs": [
    {
     "data": {
      "text/plain": [
       "1"
      ]
     },
     "execution_count": 26,
     "metadata": {},
     "output_type": "execute_result"
    }
   ],
   "source": [
    "new GroovyShell().runJUnit4Test(spockexample.PersonCheckerSpec).failureCount"
   ]
  },
  {
   "cell_type": "code",
   "execution_count": null,
   "metadata": {
    "collapsed": false,
    "deletable": true,
    "editable": true
   },
   "outputs": [],
   "source": []
  }
 ],
 "metadata": {
  "kernelspec": {
   "display_name": "Groovy 2.4.10",
   "language": "groovy",
   "name": "groovy_kernel"
  },
  "language_info": {
   "file_extension": ".groovy",
   "mimetype": "text/x-groovy",
   "name": "groovy",
   "pygments_lexer": "groovy",
   "version": "2.4.10"
  }
 },
 "nbformat": 4,
 "nbformat_minor": 2
}
