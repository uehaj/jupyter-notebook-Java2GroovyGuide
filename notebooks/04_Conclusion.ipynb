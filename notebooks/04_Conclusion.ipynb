{
 "cells": [
  {
   "cell_type": "markdown",
   "metadata": {
    "deletable": true,
    "editable": true
   },
   "source": [
    "<div align=\"right\">\n",
    "[もくじへ](Index.ipynb)</a>\n",
    "</div>\n",
    "<hr />"
   ]
  },
  {
   "cell_type": "markdown",
   "metadata": {
    "deletable": true,
    "editable": true
   },
   "source": [
    "# 次のステップへ\n",
    "\n",
    "本資料の内容をマスターされた後に、次にチェックすることをおすすめしたい内容を紹介します。\n",
    "\n",
    "## クロージャ操作\n",
    "\n",
    "クロージャはJavaにはなくGroovyにある機能のうち、筆頭です。\n",
    "クロージャについては以下を参照ください。\n",
    "\n",
    "- https://koji-k.github.io/groovy-tutorial/closure/index.html\n",
    "\n",
    "## リスト・マップ・コレクション操作\n",
    "\n",
    "リスト操作については[こちら](https://koji-k.github.io/groovy-tutorial/collection/list.html)、\n",
    "マップ操作については[こちら](https://koji-k.github.io/groovy-tutorial/collection/map.html)を参照ください(社内)。\n",
    "\n",
    "\n",
    "# おわりに\n",
    "\n",
    "本資料を出発点として、さらなるGroovyの活用を目指していただければ幸いです。"
   ]
  },
  {
   "cell_type": "markdown",
   "metadata": {
    "deletable": true,
    "editable": true
   },
   "source": [
    "<hr/>\n",
    "<div style=\"float: left\">[非互換](03_Incompatibility.ipynb)</div>"
   ]
  }
 ],
 "metadata": {
  "kernelspec": {
   "display_name": "Groovy 2.4.10",
   "language": "groovy",
   "name": "groovy_kernel"
  }
 },
 "nbformat": 4,
 "nbformat_minor": 2
}
