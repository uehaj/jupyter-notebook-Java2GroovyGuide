{
 "cells": [
  {
   "cell_type": "markdown",
   "metadata": {
    "deletable": true,
    "editable": true
   },
   "source": [
    "<div align=\"right\">\n",
    "[もくじへ](Index.ipynb)</a>\n",
    "</div>\n",
    "<hr />"
   ]
  },
  {
   "cell_type": "markdown",
   "metadata": {
    "deletable": true,
    "editable": true
   },
   "source": [
    "## プライベート変数のアクセス(★)\n",
    "\n",
    "### 一言で言うと\n",
    "\n",
    "Groovyコードからは、クラスでprivate宣言されたメソッドやフィールドにアクセスがで\n",
    "きます。\n",
    "\n",
    "### 説明\n",
    "\n",
    "たとえば以下が実行できます。"
   ]
  },
  {
   "cell_type": "code",
   "execution_count": 2,
   "metadata": {
    "collapsed": true,
    "deletable": true,
    "editable": true
   },
   "outputs": [],
   "source": [
    "assert \"abc\".value == \"abc\".chars"
   ]
  },
  {
   "cell_type": "markdown",
   "metadata": {
    "deletable": true,
    "editable": true
   },
   "source": [
    "valueはStringのprivateフィールドですが上記のようにアクセスできます。\n",
    "内部的にはリフレクションで取得しています。\n",
    "テストコードでは便利な場合があります。\n",
    "\n",
    "### 注意\n",
    "\n",
    "この機能は将来にわたって使える保証はありません。\n",
    "特にJava9のJigsaw機能導入にともなって、モジュールが異なるとアクセスできなく\n",
    "なるとのことです。\n",
    "\n",
    "参考リンク:\n",
    "\n",
    "- [こちら](https://www.slideshare.net/hadoopxnttdata/20170303-java9-hadoop-72688327)の\n",
    "19ページ目"
   ]
  },
  {
   "cell_type": "markdown",
   "metadata": {
    "deletable": true,
    "editable": true
   },
   "source": [
    "<hr/>\n",
    "<div style=\"float: left\">[前:文字列の中に式を展開(★★)](GString.ipynb)</div>\n",
    "<div style=\"text-align: right\">[次:ファイルの内容を文字列に読み込む(★)](FileToString.ipynb)</div>"
   ]
  }
 ],
 "metadata": {
  "kernelspec": {
   "display_name": "Groovy 2.4.10",
   "language": "groovy",
   "name": "groovy_kernel"
  }
 },
 "nbformat": 4,
 "nbformat_minor": 2
}
