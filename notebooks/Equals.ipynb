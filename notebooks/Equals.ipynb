{
 "cells": [
  {
   "cell_type": "markdown",
   "metadata": {
    "deletable": true,
    "editable": true
   },
   "source": [
    "<div align=\"right\">\n",
    "[もくじへ](Index.ipynb)</a>\n",
    "</div>\n",
    "<hr />"
   ]
  },
  {
   "cell_type": "markdown",
   "metadata": {
    "deletable": true,
    "editable": true
   },
   "source": [
    "## ==での比較 (★)\n",
    "\n",
    "### 一言で言うと\n",
    "\n",
    "Groovyでは演算子`==`での比較で`equals`メソッドが呼びだされます。\n",
    "つまりGroovyでは以下は等価です。"
   ]
  },
  {
   "cell_type": "code",
   "execution_count": 1,
   "metadata": {
    "collapsed": false,
    "deletable": true,
    "editable": true
   },
   "outputs": [
    {
     "data": {
      "text/plain": [
       "false"
      ]
     },
     "execution_count": 1,
     "metadata": {},
     "output_type": "execute_result"
    }
   ],
   "source": [
    "\"abc\".equals(\"def\")\n",
    "\"abc\" == \"def\""
   ]
  },
  {
   "cell_type": "markdown",
   "metadata": {
    "deletable": true,
    "editable": true
   },
   "source": [
    "値の比較をする場合、`==`の方が視覚的にわかりやすいのでGroovyでは積極的にこちらを使いましょう。\n",
    "!=についても同様です。つまりGroovyでは以下は等価です。"
   ]
  },
  {
   "cell_type": "code",
   "execution_count": 7,
   "metadata": {
    "collapsed": false,
    "deletable": true,
    "editable": true
   },
   "outputs": [
    {
     "data": {
      "text/plain": [
       "false"
      ]
     },
     "execution_count": 7,
     "metadata": {},
     "output_type": "execute_result"
    }
   ],
   "source": [
    "!(\"abc\".equals(\"def\"))\n",
    "\"abc\" != \"abc\""
   ]
  },
  {
   "cell_type": "markdown",
   "metadata": {
    "deletable": true,
    "editable": true
   },
   "source": [
    "### 詳しい説明\n",
    "\n",
    "`String`に限らず、たとえば`BigInteger`や任意のクラスのオブジェクトで定義された`equals`\n",
    "を`==`で呼び出すことができます。なお、従来`==`で行なっていた、インスタンスの同値性\n",
    "の判定は`Object.is()`メソッドで行うことになります。"
   ]
  },
  {
   "cell_type": "code",
   "execution_count": 3,
   "metadata": {
    "collapsed": true,
    "deletable": true,
    "editable": true
   },
   "outputs": [],
   "source": [
    "String s = \"abc\";\n",
    "assert s.equals(new String(\"abc\")) // 値が同じなので同じ\n",
    "assert s == new String(\"abc\") // 値が同じなので同じ(equalsと等価)\n",
    "assert ! s.is(new String(\"abc\")) // オブジェクトが同じではないので異なる"
   ]
  },
  {
   "cell_type": "markdown",
   "metadata": {
    "deletable": true,
    "editable": true
   },
   "source": [
    "<hr/>\n",
    "<div style=\"float: left\">[リストの結合(★★)](ListAdd.ipynb)</div>\n",
    "<div style=\"text-align: right\">[次:with句で簡潔に (★)](With.ipynb)</div>"
   ]
  }
 ],
 "metadata": {
  "kernelspec": {
   "display_name": "Groovy 2.4.10",
   "language": "groovy",
   "name": "groovy_kernel"
  }
 },
 "nbformat": 4,
 "nbformat_minor": 2
}
