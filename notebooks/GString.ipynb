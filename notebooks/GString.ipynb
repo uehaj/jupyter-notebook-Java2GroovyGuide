{
 "cells": [
  {
   "cell_type": "markdown",
   "metadata": {
    "deletable": true,
    "editable": true
   },
   "source": [
    "<div align=\"right\">\n",
    "[もくじへ](Index.ipynb)</a>\n",
    "</div>\n",
    "<hr />"
   ]
  },
  {
   "cell_type": "markdown",
   "metadata": {
    "deletable": true,
    "editable": true
   },
   "source": [
    "## 文字列の中に式を展開(★★)\n",
    "\n",
    "### 一言で言うと\n",
    "\n",
    "値を組込んだ文字列を簡潔に記述できます。\n",
    "\n",
    "### 説明\n",
    "\n",
    "ダブルクォートで括られた文字列中で、ドル記号を使って\n",
    "`$変数名`もしくは`${式}`のように記述するとその値が文字列中に展開されます。\n",
    "\n",
    "たとえばJavaでは"
   ]
  },
  {
   "cell_type": "code",
   "execution_count": 5,
   "metadata": {
    "collapsed": false,
    "deletable": true,
    "editable": true
   },
   "outputs": [
    {
     "data": {
      "text/plain": [
       "a=1, b=100200, c=3"
      ]
     },
     "execution_count": 5,
     "metadata": {},
     "output_type": "execute_result"
    }
   ],
   "source": [
    "a=1; b=2; c=3\n",
    "\"a=\"+a+\", b=\"+100+200+\", c=\"+c"
   ]
  },
  {
   "cell_type": "markdown",
   "metadata": {
    "deletable": true,
    "editable": true
   },
   "source": [
    "のようにする必要があり煩雑なところ、Groovyでは以下のように書くことができます。"
   ]
  },
  {
   "cell_type": "code",
   "execution_count": 6,
   "metadata": {
    "collapsed": false,
    "deletable": true,
    "editable": true
   },
   "outputs": [
    {
     "data": {
      "text/plain": [
       "a=1, b=300, c=3"
      ]
     },
     "execution_count": 6,
     "metadata": {},
     "output_type": "execute_result"
    }
   ],
   "source": [
    "\"a=$a, b=${100+200}, c=$c\""
   ]
  },
  {
   "cell_type": "markdown",
   "metadata": {
    "deletable": true,
    "editable": true
   },
   "source": [
    "### その他\n",
    "\n",
    "- シングルクォート中では展開されません。"
   ]
  },
  {
   "cell_type": "markdown",
   "metadata": {
    "deletable": true,
    "editable": true
   },
   "source": [
    "<hr/>\n",
    "<div style=\"float: left\">[前:チェック例外を非チェック例外として扱う(★★)](Exception.ipynb)</div>\n",
    "<div style=\"text-align: right\">[次:プライベート変数のアクセス(★)](Private.ipynb)</div>"
   ]
  }
 ],
 "metadata": {
  "kernelspec": {
   "display_name": "Groovy 2.4.10",
   "language": "groovy",
   "name": "groovy_kernel"
  }
 },
 "nbformat": 4,
 "nbformat_minor": 2
}
